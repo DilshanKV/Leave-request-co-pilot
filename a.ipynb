{
 "cells": [
  {
   "cell_type": "code",
   "execution_count": null,
   "metadata": {},
   "outputs": [],
   "source": [
    "prompt = \"\"\"\n",
    "  You are a friendly leave request copilot.your job is tocapture the following details from the user and give them as a Jason file.\n",
    "  \n",
    "  extract the following information:\n",
    "  1.Leave type (these are the only leave types available. Annual, Casual, Lieu Leave, Maternity, Medical)\n",
    "  2.Starting date (in the format YYYY-MM-DD)\n",
    "  3.Ending date (in the format YYYY-MM-DD)\n",
    "  4.No Days (How many days take for leave can be calculated 'ending date-starting date')\n",
    "  5.Full day (This is for full day leave)\n",
    "  6.HalfDay (This is for half day leave)\n",
    "  7.Reason for leave (brief explanation)\n",
    "  8.Description (optional, for additional details)\n",
    "  9. generate remark using above data as following example\n",
    "  For a full day leave:'Dear [reporting person],I am writing to request leave from [Starting date] to [Ending date] due to [reason for leave].\n",
    "  I understand the importance of my responsibilities and will ensure that my work is up to date before my departure. \n",
    "  I will also make sure to provide any necessary handovers to my colleagues.Thank you for considering my request. \n",
    "  I look forward to your approval.'\n",
    "\n",
    "  For a half day leave:'Dear [Recipient's Name],I am writing to request half-day leave on [Starting date] due to [reason for leave]. \n",
    "  I would like to take leave for [halfday] of the day.I understand the importance of my responsibilities and will ensure that my work is up to date before my departure. \n",
    "  Thank you for considering my request. I look forward to your approval.'\n",
    "  Example JSON Format for Full Day Leave:\n",
    "  {{  \\\"Leave Type\\\": \\\"Annual Leave\\\",  \\\"From\\\": \\\"2023-09-06\\\",  \\\"To\\\": \\\"2023-09-10\\\",  \\\"No Days\\\": 5,  \\\"FullDay\\\": \\\"Full Day\\\",  \\\"HalfDay\\\": None,  \\\"Leave Reason\\\": \\\"Wedding\\\",  \\\"Remark\\\":'Dear Dilshan Kavinda,I am writing to request leave from 2023-09-06 to 2023-09-10 due to a Wedding.I understand the importance of my responsibilities and will ensure that my work is up to date before my departure. Thank you for considering my request. I look forward to your approval.'}} \n",
    "  Example JSON Format for Half Day Leave:\n",
    "  {{  \\\"Leave Type\\\": \\\"Casual Leave\\\",  \\\"From\\\": \\\"2023-09-06\\\",  \\\"To\\\": \\\"2023-09-06\\\",  \\\"No Days\\\": 0.5,  \\\"FullDay\\\": None,  \\\"HalfDay\\\": \\\"1st Half\\\",  \\\"Leave Reason\\\": \\\"Family Need\\\",  \\\"Remark\\\":'Dear Dilshan Kavinda,I am writing to request half-day leave on 2023-09-06 due to personal reasons. I would like to take leave for first half of the day.I understand the importance of my responsibilities and will ensure that my work is up to date before my departure. Thank you for considering my request. I look forward to your approval.'}}\n",
    "\n",
    "  If any information is missing or unclear, prompt the user again for specific details\n",
    "  If any information is missing or unclear,just ask to provide the missing information asking questions one by one.\n",
    "  If the dates are invalid or the reason is too vague, ask for clarification.\n",
    "  VERY IMPORTANT: Make sure you Do not make up or guess ANY extra information. \n",
    "  Only extract what exactly is in the user request.\n",
    "  You respond in a short, very conversational friendly style.\n",
    "\n",
    "  once you create the jason ask you to save the leave request.To do that ask user to type 'SAVE'.\"\"\""
   ]
  },
  {
   "cell_type": "code",
   "execution_count": 1,
   "metadata": {},
   "outputs": [],
   "source": [
    "import pandas as pd\n",
    "import json\n",
    "\n",
    "\n",
    "import pandas as pd\n",
    "import json\n",
    "\n",
    "# Provided string with JSON data\n",
    "input_string = '''Alright, here's the JSON file and remark:\n",
    "\n",
    "{\n",
    "  \"Leave Type\": \"Annual \",\n",
    "  \"From\": \"2024-02-03\",\n",
    "  \"To\": \"2024-02-03\",\n",
    "  \"No Days\": 1,\n",
    "  \"FullDay\": \"Full Day\",\n",
    "  \"HalfDay\": \"None\",\n",
    "  \"Leave Reason\": \"Feeling unwell\",\n",
    "  \"Remark\": \"Dear Dilshan Kavinda,\\\\n\\\\nI am writing to request sick leave on 2024-02-03 due to feeling unwell.\\\\n\\\\nI understand the importance of my responsibilities and will ensure that my work is up to date before my departure. I will also make sure to provide any necessary handovers to my colleagues.\\\\n\\\\nThank you for considering my request. I look forward to your approval.\"\n",
    "}\n",
    "\n",
    "Please review the JSON file and remark. If everything looks good, type 'SAVE' to save the leave request.'''\n",
    "\n",
    "# Extract JSON data from the string\n",
    "json_start = input_string.find('{')\n",
    "json_end = input_string.rfind('}')\n",
    "json_data = input_string[json_start:json_end + 1]\n",
    "\n",
    "# Load JSON data into a Python dictionary\n",
    "leave_data = json.loads(json_data)\n",
    "\n",
    "# Additional data\n",
    "leave_data['Leave ID'] = 123  # Replace with an appropriate leave ID\n",
    "leave_data['Employee ID'] = 456  # Replace with an appropriate employee ID\n",
    "\n",
    "# Map leave types to numerical values\n",
    "leave_type_mapping = {\n",
    "    \"annual leave\": 1,\n",
    "    \"casual leave\": 2,\n",
    "    \"lieu leave\": 3,\n",
    "    \"maternity leave\": 4,\n",
    "    \"medical leave\": 5\n",
    "}\n",
    "\n",
    "leave_data['Leave Type'] = leave_type_mapping.get(leave_data['Leave Type'].lower().strip(), leave_data['Leave Type'])\n",
    "\n",
    "# Create a Pandas DataFrame\n",
    "df = pd.DataFrame([leave_data])\n",
    "\n",
    "\n"
   ]
  },
  {
   "cell_type": "code",
   "execution_count": 2,
   "metadata": {},
   "outputs": [
    {
     "data": {
      "text/html": [
       "<div>\n",
       "<style scoped>\n",
       "    .dataframe tbody tr th:only-of-type {\n",
       "        vertical-align: middle;\n",
       "    }\n",
       "\n",
       "    .dataframe tbody tr th {\n",
       "        vertical-align: top;\n",
       "    }\n",
       "\n",
       "    .dataframe thead th {\n",
       "        text-align: right;\n",
       "    }\n",
       "</style>\n",
       "<table border=\"1\" class=\"dataframe\">\n",
       "  <thead>\n",
       "    <tr style=\"text-align: right;\">\n",
       "      <th></th>\n",
       "      <th>Leave Type</th>\n",
       "      <th>From</th>\n",
       "      <th>To</th>\n",
       "      <th>No Days</th>\n",
       "      <th>FullDay</th>\n",
       "      <th>HalfDay</th>\n",
       "      <th>Leave Reason</th>\n",
       "      <th>Remark</th>\n",
       "      <th>Leave ID</th>\n",
       "      <th>Employee ID</th>\n",
       "    </tr>\n",
       "  </thead>\n",
       "  <tbody>\n",
       "    <tr>\n",
       "      <th>0</th>\n",
       "      <td>Annual</td>\n",
       "      <td>2024-02-03</td>\n",
       "      <td>2024-02-03</td>\n",
       "      <td>1</td>\n",
       "      <td>Full Day</td>\n",
       "      <td>None</td>\n",
       "      <td>Feeling unwell</td>\n",
       "      <td>Dear Dilshan Kavinda,\\n\\nI am writing to reque...</td>\n",
       "      <td>123</td>\n",
       "      <td>456</td>\n",
       "    </tr>\n",
       "  </tbody>\n",
       "</table>\n",
       "</div>"
      ],
      "text/plain": [
       "  Leave Type        From          To  No Days   FullDay HalfDay  \\\n",
       "0    Annual   2024-02-03  2024-02-03        1  Full Day    None   \n",
       "\n",
       "     Leave Reason                                             Remark  \\\n",
       "0  Feeling unwell  Dear Dilshan Kavinda,\\n\\nI am writing to reque...   \n",
       "\n",
       "   Leave ID  Employee ID  \n",
       "0       123          456  "
      ]
     },
     "execution_count": 2,
     "metadata": {},
     "output_type": "execute_result"
    }
   ],
   "source": [
    "df"
   ]
  },
  {
   "cell_type": "code",
   "execution_count": 3,
   "metadata": {},
   "outputs": [],
   "source": [
    "leave_data = pd.read_csv('leave_data.csv')\n",
    "leave_allocation = pd.read_csv(\"Leave_Allocation.csv\")"
   ]
  },
  {
   "cell_type": "code",
   "execution_count": 4,
   "metadata": {},
   "outputs": [],
   "source": [
    "employee_id = 1\n",
    "filtered_df = leave_data[leave_data['Employee ID'] == employee_id]\n",
    "merged_df = pd.merge(leave_allocation,filtered_df, left_on='LeaveTypeCode', right_on='Leave Type',how='left')\n",
    "result_df = merged_df.groupby('LeaveTypeName')['No Days'].sum().reset_index()\n",
    "final_df = pd.merge(result_df, leave_allocation, left_on='LeaveTypeName', right_on='LeaveTypeName')\n",
    "new_final_df = final_df[['LeaveTypeName','No Days','AllocatedNoOfDays']]"
   ]
  },
  {
   "cell_type": "code",
   "execution_count": 5,
   "metadata": {},
   "outputs": [
    {
     "data": {
      "text/html": [
       "<div>\n",
       "<style scoped>\n",
       "    .dataframe tbody tr th:only-of-type {\n",
       "        vertical-align: middle;\n",
       "    }\n",
       "\n",
       "    .dataframe tbody tr th {\n",
       "        vertical-align: top;\n",
       "    }\n",
       "\n",
       "    .dataframe thead th {\n",
       "        text-align: right;\n",
       "    }\n",
       "</style>\n",
       "<table border=\"1\" class=\"dataframe\">\n",
       "  <thead>\n",
       "    <tr style=\"text-align: right;\">\n",
       "      <th></th>\n",
       "      <th>LeaveTypeName</th>\n",
       "      <th>No Days</th>\n",
       "      <th>AllocatedNoOfDays</th>\n",
       "    </tr>\n",
       "  </thead>\n",
       "  <tbody>\n",
       "    <tr>\n",
       "      <th>0</th>\n",
       "      <td>ANNUAL</td>\n",
       "      <td>0.0</td>\n",
       "      <td>10</td>\n",
       "    </tr>\n",
       "    <tr>\n",
       "      <th>1</th>\n",
       "      <td>CASUAL</td>\n",
       "      <td>1.0</td>\n",
       "      <td>10</td>\n",
       "    </tr>\n",
       "    <tr>\n",
       "      <th>2</th>\n",
       "      <td>Lieu Leave</td>\n",
       "      <td>0.0</td>\n",
       "      <td>10</td>\n",
       "    </tr>\n",
       "    <tr>\n",
       "      <th>3</th>\n",
       "      <td>MATERNITY</td>\n",
       "      <td>1.0</td>\n",
       "      <td>10</td>\n",
       "    </tr>\n",
       "    <tr>\n",
       "      <th>4</th>\n",
       "      <td>MEDICAL</td>\n",
       "      <td>0.0</td>\n",
       "      <td>10</td>\n",
       "    </tr>\n",
       "  </tbody>\n",
       "</table>\n",
       "</div>"
      ],
      "text/plain": [
       "  LeaveTypeName  No Days  AllocatedNoOfDays\n",
       "0        ANNUAL      0.0                 10\n",
       "1        CASUAL      1.0                 10\n",
       "2    Lieu Leave      0.0                 10\n",
       "3     MATERNITY      1.0                 10\n",
       "4       MEDICAL      0.0                 10"
      ]
     },
     "execution_count": 5,
     "metadata": {},
     "output_type": "execute_result"
    }
   ],
   "source": [
    "new_final_df"
   ]
  },
  {
   "cell_type": "code",
   "execution_count": 6,
   "metadata": {},
   "outputs": [],
   "source": [
    "leave_data = pd.read_csv('leave_data.csv')\n",
    "leave_allocation = pd.read_csv(\"Leave_Allocation.csv\")\n",
    "\n",
    "def leave_insights(employee_id,leave_data,leave_allocation):\n",
    "    filtered_df = leave_data[leave_data['Employee ID'] == employee_id]\n",
    "    merged_df = pd.merge(leave_allocation,filtered_df, left_on='LeaveTypeCode', right_on='Leave Type',how='left')\n",
    "    result_df = merged_df.groupby('LeaveTypeName')['No Days'].sum().reset_index()\n",
    "    final_df = pd.merge(result_df, leave_allocation, left_on='LeaveTypeName', right_on='LeaveTypeName')\n",
    "    new_final_df = final_df[['LeaveTypeName','No Days','AllocatedNoOfDays']]\n",
    "    return new_final_df\n",
    "\n",
    "insights = leave_insights(employee_id,leave_data,leave_allocation)\n",
    "\n",
    "text_insights = '**LEAVE BALANCE:**\\n\\n'\n",
    "\n",
    "for index, row in insights.iterrows():\n",
    "    leave_type = row['LeaveTypeName']\n",
    "    actual_days = row['No Days']\n",
    "    allocated_days = row['AllocatedNoOfDays']\n",
    "\n",
    "    if actual_days <= allocated_days:\n",
    "        # insight = f\"For {leave_type} leave, you took {actual_days} days out of {allocated_days} allocated days. No overuse.\"\n",
    "        insight =f\"- **{leave_type}:** You can have ***{allocated_days-actual_days} leaves.*** ({actual_days} days out of {allocated_days} allocated days were used.)\\n\"\n",
    "    else:\n",
    "        overuse = actual_days - allocated_days\n",
    "        insight = f\"For {leave_type} leave, you exceeded the allocated days by {overuse} days. Please review.\"\n",
    "\n",
    "    text_insights = text_insights+'\\n'+insight\n"
   ]
  },
  {
   "cell_type": "code",
   "execution_count": 7,
   "metadata": {},
   "outputs": [
    {
     "data": {
      "text/plain": [
       "'**LEAVE BALANCE:**\\n\\n\\n- **ANNUAL:** You can have ***10.0 leaves.*** (0.0 days out of 10 allocated days were used.)\\n\\n- **CASUAL:** You can have ***9.0 leaves.*** (1.0 days out of 10 allocated days were used.)\\n\\n- **Lieu Leave:** You can have ***10.0 leaves.*** (0.0 days out of 10 allocated days were used.)\\n\\n- **MATERNITY:** You can have ***9.0 leaves.*** (1.0 days out of 10 allocated days were used.)\\n\\n- **MEDICAL:** You can have ***10.0 leaves.*** (0.0 days out of 10 allocated days were used.)\\n'"
      ]
     },
     "execution_count": 7,
     "metadata": {},
     "output_type": "execute_result"
    }
   ],
   "source": [
    "text_insights"
   ]
  }
 ],
 "metadata": {
  "kernelspec": {
   "display_name": "env",
   "language": "python",
   "name": "python3"
  },
  "language_info": {
   "codemirror_mode": {
    "name": "ipython",
    "version": 3
   },
   "file_extension": ".py",
   "mimetype": "text/x-python",
   "name": "python",
   "nbconvert_exporter": "python",
   "pygments_lexer": "ipython3",
   "version": "3.11.5"
  }
 },
 "nbformat": 4,
 "nbformat_minor": 2
}
